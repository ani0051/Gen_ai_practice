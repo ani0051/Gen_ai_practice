{
 "cells": [
  {
   "cell_type": "code",
   "execution_count": 1,
   "metadata": {},
   "outputs": [
    {
     "name": "stdout",
     "output_type": "stream",
     "text": [
      "Note: you may need to restart the kernel to use updated packages.\n"
     ]
    }
   ],
   "source": [
    "%pip install -qU langchain langchain-groq\n",
    "     "
   ]
  },
  {
   "cell_type": "code",
   "execution_count": 2,
   "metadata": {},
   "outputs": [],
   "source": [
    "# create the prompt template for plan\n",
    "from langchain_core.prompts import ChatPromptTemplate\n",
    "\n",
    "message_template = \"\"\"\n",
    "\"Generate interview questions for the following job role and description:\"\n",
    "        Job Role: {role}\\n\n",
    "        Job Description: {description}\\n\n",
    "\"\"\"\n",
    "\n",
    "# Define the prompt template\n",
    "prompt_template = ChatPromptTemplate.from_messages([\n",
    "    (\"system\", \"You are a senior HR manager. You are great a crafting job interview questions that are insightful and useful\"),\n",
    "    (\"human\", message_template)\n",
    "])"
   ]
  },
  {
   "cell_type": "code",
   "execution_count": 3,
   "metadata": {},
   "outputs": [
    {
     "name": "stdout",
     "output_type": "stream",
     "text": [
      "Model initialized successfully!\n"
     ]
    }
   ],
   "source": [
    "from dotenv import load_dotenv\n",
    "import os\n",
    "from langchain_groq import ChatGroq\n",
    "\n",
    "# Load environment variables\n",
    "load_dotenv()\n",
    "\n",
    "# Initialize model\n",
    "model = ChatGroq(model=\"llama-3.3-70b-versatile\")\n",
    "\n",
    "print(\"Model initialized successfully!\")\n"
   ]
  },
  {
   "cell_type": "code",
   "execution_count": 4,
   "metadata": {},
   "outputs": [],
   "source": [
    "from langchain_core.output_parsers import StrOutputParser\n",
    "\n",
    "parser = StrOutputParser()"
   ]
  },
  {
   "cell_type": "code",
   "execution_count": 5,
   "metadata": {},
   "outputs": [],
   "source": [
    "chain = prompt_template | model | parser\n",
    " "
   ]
  },
  {
   "cell_type": "code",
   "execution_count": 6,
   "metadata": {},
   "outputs": [
    {
     "name": "stdout",
     "output_type": "stream",
     "text": [
      "Here are some potential interview questions for a Software Engineer position with a focus on Python and JavaScript:\n",
      "\n",
      "**Introduction and Background**\n",
      "\n",
      "1. Can you tell me about your background in software development and how you became interested in this field?\n",
      "2. How do you stay current with the latest developments and advancements in software engineering, particularly with regards to Python and JavaScript?\n",
      "3. What do you think are the most important qualities and skills for a software engineer to have, and how do you embody those qualities?\n",
      "\n",
      "**Technical Skills**\n",
      "\n",
      "1. Can you explain the differences between Python 2 and Python 3, and how you would decide which version to use for a particular project?\n",
      "2. How do you handle errors and exceptions in Python, and can you give an example of a time when you had to debug a difficult issue?\n",
      "3. What is your experience with JavaScript frameworks such as React or Angular, and how do you think they can be used to improve the development process?\n",
      "4. Can you describe a project you worked on that involved integrating Python and JavaScript, and how you handled any challenges that arose?\n",
      "5. How do you approach testing and validation in your code, and what tools do you use to ensure that your code is reliable and stable?\n",
      "\n",
      "**Problem-Solving and Design**\n",
      "\n",
      "1. Can you describe a complex software development problem you faced in the past, and how you went about solving it?\n",
      "2. How do you approach designing a new software system or application, and what factors do you consider when making design decisions?\n",
      "3. Can you walk me through your thought process when debugging a difficult issue, and how you would go about identifying the root cause of the problem?\n",
      "4. How do you balance the trade-offs between different design considerations, such as performance, security, and maintainability?\n",
      "5. Can you describe a time when you had to communicate technical information to a non-technical stakeholder, and how you approached that situation?\n",
      "\n",
      "**Collaboration and Communication**\n",
      "\n",
      "1. Can you tell me about a time when you worked on a team to develop a software application, and what your role was in the team?\n",
      "2. How do you handle conflicts or disagreements with colleagues or team members, and what strategies do you use to resolve them?\n",
      "3. Can you describe your experience with agile development methodologies, and how you think they can be used to improve the development process?\n",
      "4. How do you communicate technical information to non-technical stakeholders, such as project managers or product owners?\n",
      "5. Can you tell me about a time when you had to give or receive feedback on code or design, and how you approached that situation?\n",
      "\n",
      "**Scenario-Based Questions**\n",
      "\n",
      "1. Imagine you are tasked with developing a web application that allows users to upload and share files. How would you approach this project, and what technologies would you use?\n",
      "2. Suppose you are working on a team to develop a machine learning model, and you discover that the model is not performing as expected. How would you go about debugging the issue and improving the model's performance?\n",
      "3. Can you describe how you would approach developing a RESTful API using Python and JavaScript, and what considerations you would keep in mind when designing the API?\n",
      "\n",
      "**Behavioral Questions**\n",
      "\n",
      "1. Can you tell me about a time when you had to learn a new programming language or technology, and how you approached that process?\n",
      "2. How do you handle a situation where you are given a tight deadline to complete a project, and you are not sure if you can meet the deadline?\n",
      "3. Can you describe a time when you identified a technical debt or a area for improvement in a codebase, and how you went about addressing it?\n",
      "4. How do you prioritize your work when faced with multiple competing demands or tasks, and what strategies do you use to manage your time and focus?\n",
      "5. Can you tell me about a time when you received feedback or criticism on your code or design, and how you responded to that feedback?\n"
     ]
    }
   ],
   "source": [
    "role = \"Software Engineer\"\n",
    "description = \"Responsible for developing and maintaining software applications. Must have experience with Python and JavaScript.\"\n",
    "\n",
    "response = chain.invoke({\n",
    "    \"role\":role,\n",
    "    \"description\":description})\n",
    "print(response)\n",
    "     "
   ]
  }
 ],
 "metadata": {
  "kernelspec": {
   "display_name": "myenv",
   "language": "python",
   "name": "python3"
  },
  "language_info": {
   "codemirror_mode": {
    "name": "ipython",
    "version": 3
   },
   "file_extension": ".py",
   "mimetype": "text/x-python",
   "name": "python",
   "nbconvert_exporter": "python",
   "pygments_lexer": "ipython3",
   "version": "3.11.2"
  }
 },
 "nbformat": 4,
 "nbformat_minor": 2
}
